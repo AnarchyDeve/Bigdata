{
 "cells": [
  {
   "cell_type": "markdown",
   "id": "1f2bdac7",
   "metadata": {},
   "source": [
    "# pip install palmerpenguins # 패키지 없는 경우 설치\n",
    "# 팔머펭귄 데이터 불러오기"
   ]
  },
  {
   "cell_type": "code",
   "execution_count": null,
   "id": "f83fcd41",
   "metadata": {},
   "outputs": [],
   "source": [
    "import pandas as pd\n",
    "from palmerpenguins import load_penguins\n",
    "penguins = load_penguins()"
   ]
  }
 ],
 "metadata": {
  "kernelspec": {
   "display_name": "LS_Bigdata",
   "language": "python",
   "name": "python3"
  },
  "language_info": {
   "codemirror_mode": {
    "name": "ipython",
    "version": 3
   },
   "file_extension": ".py",
   "mimetype": "text/x-python",
   "name": "python",
   "nbconvert_exporter": "python",
   "pygments_lexer": "ipython3",
   "version": "3.11.13"
  }
 },
 "nbformat": 4,
 "nbformat_minor": 5
}
